{
 "cells": [
  {
   "cell_type": "code",
   "execution_count": 1,
   "id": "100af4ab-f053-41a0-a96b-d20f151329cc",
   "metadata": {},
   "outputs": [
    {
     "name": "stdout",
     "output_type": "stream",
     "text": [
      "No Jacobian form specified for nonlinear variational problem.\n",
      "Differentiating residual form F to obtain Jacobian J = F'.\n",
      "Solving nonlinear variational problem.\n",
      "  Newton iteration 0: r (abs) = 5.979e+01 (tol = 1.000e-10) r (rel) = 1.000e+00 (tol = 1.000e-09)\n",
      "  Newton iteration 1: r (abs) = 7.652e-01 (tol = 1.000e-10) r (rel) = 1.280e-02 (tol = 1.000e-09)\n",
      "  Newton iteration 2: r (abs) = 2.298e-01 (tol = 1.000e-10) r (rel) = 3.843e-03 (tol = 1.000e-09)\n",
      "  Newton iteration 3: r (abs) = 9.169e+00 (tol = 1.000e-10) r (rel) = 1.534e-01 (tol = 1.000e-09)\n",
      "  Newton iteration 4: r (abs) = 2.752e+00 (tol = 1.000e-10) r (rel) = 4.603e-02 (tol = 1.000e-09)\n",
      "  Newton iteration 5: r (abs) = 7.949e-01 (tol = 1.000e-10) r (rel) = 1.329e-02 (tol = 1.000e-09)\n",
      "  Newton iteration 6: r (abs) = 2.177e-01 (tol = 1.000e-10) r (rel) = 3.641e-03 (tol = 1.000e-09)\n",
      "  Newton iteration 7: r (abs) = 4.994e-02 (tol = 1.000e-10) r (rel) = 8.353e-04 (tol = 1.000e-09)\n",
      "  Newton iteration 8: r (abs) = 6.430e-03 (tol = 1.000e-10) r (rel) = 1.076e-04 (tol = 1.000e-09)\n",
      "  Newton iteration 9: r (abs) = 1.664e-04 (tol = 1.000e-10) r (rel) = 2.783e-06 (tol = 1.000e-09)\n",
      "  Newton iteration 10: r (abs) = 1.401e-07 (tol = 1.000e-10) r (rel) = 2.343e-09 (tol = 1.000e-09)\n",
      "  Newton iteration 11: r (abs) = 7.128e-13 (tol = 1.000e-10) r (rel) = 1.192e-14 (tol = 1.000e-09)\n",
      "  Newton solver finished in 11 iterations and 11 linear solver iterations.\n",
      "No Jacobian form specified for nonlinear variational problem.\n",
      "Differentiating residual form F to obtain Jacobian J = F'.\n",
      "Solving nonlinear variational problem.\n",
      "  Newton iteration 0: r (abs) = 8.467e+01 (tol = 1.000e-10) r (rel) = 1.000e+00 (tol = 1.000e-09)\n",
      "  Newton iteration 1: r (abs) = 1.371e-01 (tol = 1.000e-10) r (rel) = 1.620e-03 (tol = 1.000e-09)\n",
      "  Newton iteration 2: r (abs) = 2.460e-02 (tol = 1.000e-10) r (rel) = 2.905e-04 (tol = 1.000e-09)\n",
      "  Newton iteration 3: r (abs) = 9.694e-03 (tol = 1.000e-10) r (rel) = 1.145e-04 (tol = 1.000e-09)\n",
      "  Newton iteration 4: r (abs) = 4.356e-03 (tol = 1.000e-10) r (rel) = 5.144e-05 (tol = 1.000e-09)\n",
      "  Newton iteration 5: r (abs) = 1.883e-03 (tol = 1.000e-10) r (rel) = 2.224e-05 (tol = 1.000e-09)\n",
      "  Newton iteration 6: r (abs) = 5.682e-04 (tol = 1.000e-10) r (rel) = 6.710e-06 (tol = 1.000e-09)\n",
      "  Newton iteration 7: r (abs) = 7.040e-05 (tol = 1.000e-10) r (rel) = 8.314e-07 (tol = 1.000e-09)\n",
      "  Newton iteration 8: r (abs) = 1.149e-06 (tol = 1.000e-10) r (rel) = 1.358e-08 (tol = 1.000e-09)\n",
      "  Newton iteration 9: r (abs) = 3.056e-10 (tol = 1.000e-10) r (rel) = 3.609e-12 (tol = 1.000e-09)\n",
      "  Newton solver finished in 9 iterations and 9 linear solver iterations.\n",
      "No Jacobian form specified for nonlinear variational problem.\n",
      "Differentiating residual form F to obtain Jacobian J = F'.\n",
      "Solving nonlinear variational problem.\n",
      "  Newton iteration 0: r (abs) = 8.443e+01 (tol = 1.000e-10) r (rel) = 1.000e+00 (tol = 1.000e-09)\n",
      "  Newton iteration 1: r (abs) = 1.371e-01 (tol = 1.000e-10) r (rel) = 1.623e-03 (tol = 1.000e-09)\n",
      "  Newton iteration 2: r (abs) = 2.460e-02 (tol = 1.000e-10) r (rel) = 2.913e-04 (tol = 1.000e-09)\n",
      "  Newton iteration 3: r (abs) = 9.694e-03 (tol = 1.000e-10) r (rel) = 1.148e-04 (tol = 1.000e-09)\n",
      "  Newton iteration 4: r (abs) = 4.356e-03 (tol = 1.000e-10) r (rel) = 5.159e-05 (tol = 1.000e-09)\n",
      "  Newton iteration 5: r (abs) = 1.883e-03 (tol = 1.000e-10) r (rel) = 2.230e-05 (tol = 1.000e-09)\n",
      "  Newton iteration 6: r (abs) = 5.681e-04 (tol = 1.000e-10) r (rel) = 6.729e-06 (tol = 1.000e-09)\n",
      "  Newton iteration 7: r (abs) = 7.039e-05 (tol = 1.000e-10) r (rel) = 8.337e-07 (tol = 1.000e-09)\n",
      "  Newton iteration 8: r (abs) = 1.149e-06 (tol = 1.000e-10) r (rel) = 1.361e-08 (tol = 1.000e-09)\n",
      "  Newton iteration 9: r (abs) = 3.055e-10 (tol = 1.000e-10) r (rel) = 3.618e-12 (tol = 1.000e-09)\n",
      "  Newton solver finished in 9 iterations and 9 linear solver iterations.\n"
     ]
    }
   ],
   "source": [
    "from dolfin import *\n",
    "\n",
    "mesh = UnitSquareMesh(100, 100)\n",
    "\n",
    "V = FunctionSpace(mesh, 'CG',1)\n",
    "u = Function(V)\n",
    "v = TestFunction(V)\n",
    "f = Constant(0.0)\n",
    "delta=Constant(0.04)\n",
    "\n",
    "F = delta* inner(grad(u), grad(v))*dx +1/delta*inner(u**3-u,v)*dx\n",
    "\n",
    "bclr=DirichletBC(V,+1, \"x[0]==0.0 || x[0]==1.0\")\n",
    "bctb=DirichletBC(V,-1, \"x[1]==0.0 || x[1]==1.0\")\n",
    "\n",
    "\n",
    "pvd=File(\"Allen-Cahn.pvd\")\n",
    "\n",
    "for ig in [0,1,-1]:\n",
    "\tu.interpolate(Constant(ig))\n",
    "\tsolve(F==0, u, [bclr,bctb])\n",
    "\tpvd<<u"
   ]
  },
  {
   "cell_type": "code",
   "execution_count": 3,
   "id": "43f33644-8bfa-489e-a173-15ffd67adf68",
   "metadata": {},
   "outputs": [
    {
     "name": "stdout",
     "output_type": "stream",
     "text": [
      "[TerminalIPythonApp] WARNING | Subcommand `ipython nbconvert` is deprecated and will be removed in future versions.\n",
      "[TerminalIPythonApp] WARNING | You likely want to use `jupyter nbconvert` in the future\n",
      "[NbConvertApp] Converting notebook Allen-Cahn.ipynb to script\n",
      "[NbConvertApp] Writing 509 bytes to Allen-Cahn.py\n"
     ]
    }
   ],
   "source": [
    "# Saves as .py file\n",
    "\n",
    "!ipython nbconvert Allen-Cahn.ipynb --to script"
   ]
  },
  {
   "cell_type": "code",
   "execution_count": null,
   "id": "20ba13fa-0fcf-4b1f-aeeb-7a8fbbcc9d24",
   "metadata": {},
   "outputs": [],
   "source": []
  }
 ],
 "metadata": {
  "kernelspec": {
   "display_name": "Python 3 (ipykernel)",
   "language": "python",
   "name": "python3"
  },
  "language_info": {
   "codemirror_mode": {
    "name": "ipython",
    "version": 3
   },
   "file_extension": ".py",
   "mimetype": "text/x-python",
   "name": "python",
   "nbconvert_exporter": "python",
   "pygments_lexer": "ipython3",
   "version": "3.9.7"
  }
 },
 "nbformat": 4,
 "nbformat_minor": 5
}
